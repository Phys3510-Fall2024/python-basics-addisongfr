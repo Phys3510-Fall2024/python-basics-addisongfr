{
 "cells": [
  {
   "cell_type": "markdown",
   "id": "7b0f06ce-85e1-4a69-8919-a39c2ca3b6df",
   "metadata": {},
   "source": [
    "# This is the point of this Jupyter Notebook\n",
    "\n",
    "These are notes for myself\n",
    "1. this is fun I love python!!!\n",
    "2. $\\sqrt{2}$"
   ]
  },
  {
   "cell_type": "code",
   "execution_count": 1,
   "id": "6d74ef58-74de-468b-ba2b-1f7f3555236e",
   "metadata": {},
   "outputs": [
    {
     "data": {
      "text/plain": [
       "4.1"
      ]
     },
     "execution_count": 1,
     "metadata": {},
     "output_type": "execute_result"
    }
   ],
   "source": [
    "a=1    #this variable is this value\n",
    "b=3.1  #this variable is that value\n",
    "\n",
    "c=a+b  #this is the sum of a and b\n",
    "\n",
    "c"
   ]
  },
  {
   "cell_type": "markdown",
   "id": "bb30263f-cb7c-4a26-b778-8ff650626f5d",
   "metadata": {},
   "source": [
    "More text!!!!!!!!!!!"
   ]
  },
  {
   "cell_type": "code",
   "execution_count": null,
   "id": "a7299606-6386-4d0e-b6b9-6172550693c5",
   "metadata": {},
   "outputs": [],
   "source": []
  }
 ],
 "metadata": {
  "kernelspec": {
   "display_name": "Python 3 (ipykernel)",
   "language": "python",
   "name": "python3"
  },
  "language_info": {
   "codemirror_mode": {
    "name": "ipython",
    "version": 3
   },
   "file_extension": ".py",
   "mimetype": "text/x-python",
   "name": "python",
   "nbconvert_exporter": "python",
   "pygments_lexer": "ipython3",
   "version": "3.9.19"
  }
 },
 "nbformat": 4,
 "nbformat_minor": 5
}
